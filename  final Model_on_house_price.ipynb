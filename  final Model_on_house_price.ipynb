{
  "nbformat": 4,
  "nbformat_minor": 0,
  "metadata": {
    "colab": {
      "name": "Model on house price.ipynb",
      "provenance": [],
      "authorship_tag": "ABX9TyMPlt9T+xPGZH73hLStLUua",
      "include_colab_link": true
    },
    "kernelspec": {
      "name": "python3",
      "display_name": "Python 3"
    }
  },
  "cells": [
    {
      "cell_type": "markdown",
      "metadata": {
        "id": "view-in-github",
        "colab_type": "text"
      },
      "source": [
        "<a href=\"https://colab.research.google.com/github/data2450/california-house-price-prediction/blob/main/%20final%20Model_on_house_price.ipynb\" target=\"_parent\"><img src=\"https://colab.research.google.com/assets/colab-badge.svg\" alt=\"Open In Colab\"/></a>"
      ]
    },
    {
      "cell_type": "code",
      "metadata": {
        "id": "B89kZKVhZwlA"
      },
      "source": [
        "import numpy as np\n",
        "import pandas as pd\n",
        "import matplotlib.pyplot as plt\n",
        "import seaborn as sns\n",
        "%matplotlib inline"
      ],
      "execution_count": 1,
      "outputs": []
    },
    {
      "cell_type": "code",
      "metadata": {
        "id": "j5uZ-W7fhKUA"
      },
      "source": [
        "import numpy.random as rnd\n",
        "rnd.seed(42)"
      ],
      "execution_count": 2,
      "outputs": []
    },
    {
      "cell_type": "code",
      "metadata": {
        "id": "00Uv7630hO0g"
      },
      "source": [
        "from sklearn.pipeline import Pipeline,FeatureUnion\n",
        "from sklearn.preprocessing import StandardScaler\n",
        "from sklearn.impute import SimpleImputer"
      ],
      "execution_count": 3,
      "outputs": []
    },
    {
      "cell_type": "code",
      "metadata": {
        "id": "oBx6fWZXh4Oj"
      },
      "source": [
        "from sklearn.base import BaseEstimator,TransformerMixin,RegressorMixin\n",
        "\n",
        "class FeaturesAdder(BaseEstimator,TransformerMixin):\n",
        "    \"\"\"This class adds new features in the dataset.\n",
        "        Features added are : rooms_per_household, bedrooms_per_room, and population_per_household.\n",
        "    \"\"\"\n",
        "    def fit(self,X,y=None):\n",
        "        return self\n",
        "    def transform(self,X,y=None):\n",
        "        X['rooms_per_household']=X['total_rooms']/X['households']\n",
        "        X['bedrooms_per_room']=X['total_bedrooms']/X['total_rooms']\n",
        "        X['population_per_household']=X['population']/X['households']\n",
        "        return X\n",
        "\n",
        "\n",
        "class RemoveOutliers(BaseEstimator,TransformerMixin):\n",
        "    \"\"\"This class removes outliers from data.\n",
        "    Note: Outlier values are hard coded\n",
        "    \"\"\"\n",
        "    def fit (self,X,y=None):\n",
        "        return self\n",
        "    \n",
        "    def transform(self,X,y=None):\n",
        "        X=X[(X['median_house_value']!=500001) | (X['median_income']>=2)].reset_index(drop=True)\n",
        "        X=X[X['median_income']<=11].reset_index(drop=True)\n",
        "        X=X[(X['median_house_value']!=350000) | (X['median_income']>=1.5)].reset_index(drop=True)\n",
        "        X=X[(X['median_house_value']!=450000) | (X['median_income']>=2)].reset_index(drop=True)\n",
        "        X=X[(X['median_house_value']>=350000) | (X['median_income']<=9.5)].reset_index(drop=True)\n",
        "        X=X[X['population']<=9000]\n",
        "        X=X[(X['population_per_household']>=1.15) & (X['population_per_household']<=6.5)]\n",
        "        X=X[X['rooms_per_household']<20]\n",
        "        X=X[X['bedrooms_per_room']<0.5].reset_index(drop=True)\n",
        "        return X\n",
        "    \n",
        "\n",
        "class FeaturesTransformer(BaseEstimator,TransformerMixin):\n",
        "    \"\"\"This class trnsforms numberical featuress in the dataset.\n",
        "    Note: Transformations are hard coded.\n",
        "    \"\"\"\n",
        "    def fit(self,X,y=None):\n",
        "        return self\n",
        "    def transform(self,X,y=None):\n",
        "        import numpy as np\n",
        "        from scipy.special import boxcox1p        \n",
        "        X['total_rooms']=X['total_rooms'].apply(lambda x: boxcox1p(x,0.25))\n",
        "        X['total_bedrooms']=X['total_bedrooms'].apply(lambda x: boxcox1p(x,0.25))\n",
        "        X['households']=X['households'].apply(lambda x: boxcox1p(x,0.2))\n",
        "        X['population']=X['population'].apply(lambda x: boxcox1p(x,0.3))\n",
        "        X['rooms_per_household']=X['rooms_per_household'].apply(lambda x: np.log1p(x)**0.5)\n",
        "        X['bedrooms_per_room']=X['bedrooms_per_room'].apply(lambda x: np.log1p(x)**0.25)\n",
        "        X['median_income']=X['median_income'].apply(lambda x: np.log1p(x)**1.25)\n",
        "        X['population_per_household']=X['population_per_household'].apply(lambda x: np.log1p(x)**1)\n",
        "        return X\n",
        "    \n",
        "\n",
        "class DataFrameSelector(BaseEstimator,TransformerMixin):\n",
        "    \"\"\"This class is a dataframe selector.\n",
        "        Data members:\n",
        "            features: A list of column_names you want in output dataframe\n",
        "    \"\"\"\n",
        "    def __init__(self,features):\n",
        "        self.features=features\n",
        "    def fit(self,X,y=None):\n",
        "        return self\n",
        "    def transform(self,X,y=None):\n",
        "        return X[self.features]\n",
        "\n",
        "class GetDummies(BaseEstimator,TransformerMixin):\n",
        "    \"\"\"This class is used to get dummy columns from categorical columns.\"\"\"\n",
        "    def fit (self,X,y=None):\n",
        "        return self"
      ],
      "execution_count": 4,
      "outputs": []
    },
    {
      "cell_type": "code",
      "metadata": {
        "id": "Zo-tcy_kiJw8"
      },
      "source": [
        "def get_vif(X):\n",
        "    import statsmodels.api as sm\n",
        "    from statsmodels.stats.outliers_influence import variance_inflation_factor\n",
        "    l = [variance_inflation_factor(X.values, i) for i in range(X.shape[1])]\n",
        "    return pd.Series(index=X.columns,data=l).sort_values(ascending=False)\n",
        "            \n",
        "def remove_by_pvalue(X,y,pvalue=0.05):\n",
        "    \"\"\"Remove features with p-value more than 'pvalue'\n",
        "    \n",
        "    This function uses statsmodels.api.OLS model. Please add intercept to data externally.\n",
        "    Input:\n",
        "        X: Array or dataframe excluding predicted variable\n",
        "        y: Series or list of predicted variable\n",
        "        pvalue: int or float\n",
        "    \n",
        "    Note:\n",
        "        X is changed inplace\n",
        "    \"\"\"\n",
        "    import statsmodels.api as sm\n",
        "    for i in range(len(X.columns)):\n",
        "        regressor_OLS=sm.OLS(endog=y,exog=X).fit()\n",
        "        s=regressor_OLS.pvalues.sort_values(ascending=False)\n",
        "        if s.iloc[0]>pvalue:\n",
        "            X.drop(s.index[0],axis=1,inplace=True)\n",
        "            print('Removed: ',s.index[0],'P-value: ',s.iloc[0])\n",
        "        \n",
        "def remove_by_vif(X,vif=5):\n",
        "    \"\"\"Remove columns from X whose VIF is greater than supplied 'vif'\n",
        "    Parameters:\n",
        "        X:array or dataframe containing data excluding target variable\n",
        "        vif: int or float of limiting value of VIF\n",
        "    Note:\n",
        "        This function changes X inplace\n",
        "    \"\"\"\n",
        "    import statsmodels.api as sm\n",
        "    from statsmodels.stats.outliers_influence import variance_inflation_factor\n",
        "        \n",
        "    for i in range(len(X.columns)):\n",
        "        l = [variance_inflation_factor(X.values, i) for i in range(X.shape[1])]\n",
        "        s=pd.Series(index=X.columns,data=l).sort_values(ascending=False)\n",
        "        if s.iloc[0]>vif:\n",
        "            X.drop(s.index[0],axis=1,inplace=True)\n",
        "            print('Removed: ',s.index[0],', VIF: ',s.iloc[0])\n",
        "        else:\n",
        "            break"
      ],
      "execution_count": 5,
      "outputs": []
    },
    {
      "cell_type": "markdown",
      "metadata": {
        "id": "ZK1l6p-7iXgY"
      },
      "source": [
        "# getting the Data"
      ]
    },
    {
      "cell_type": "code",
      "metadata": {
        "id": "5-zzArb9htDt",
        "outputId": "e3251664-3525-44b0-896e-b93ece55e63f",
        "colab": {
          "base_uri": "https://localhost:8080/"
        }
      },
      "source": [
        "train=pd.read_csv('/content/sample_data/california_housing_train.csv')\n",
        "test_d=pd.read_csv('/content/sample_data/california_housing_test.csv')\n",
        "df = pd.concat([train,test_d])\n",
        "df.columns"
      ],
      "execution_count": 6,
      "outputs": [
        {
          "output_type": "execute_result",
          "data": {
            "text/plain": [
              "Index(['longitude', 'latitude', 'housing_median_age', 'total_rooms',\n",
              "       'total_bedrooms', 'population', 'households', 'median_income',\n",
              "       'median_house_value'],\n",
              "      dtype='object')"
            ]
          },
          "metadata": {
            "tags": []
          },
          "execution_count": 6
        }
      ]
    },
    {
      "cell_type": "code",
      "metadata": {
        "id": "h27OtVtniu6l",
        "outputId": "80f0ae96-a0aa-4e17-b8fd-510d209126c9",
        "colab": {
          "base_uri": "https://localhost:8080/"
        }
      },
      "source": [
        "#Adding features\n",
        "df=FeaturesAdder().fit_transform(df)\n",
        "\n",
        "num_features=['longitude', 'latitude', 'housing_median_age', 'total_rooms',\n",
        "       'total_bedrooms', 'population', 'households', 'median_income',\n",
        "       'median_house_value', 'rooms_per_household',\n",
        "       'bedrooms_per_room', 'population_per_household']\n",
        "\n",
        "#Removing outliers\n",
        "df=RemoveOutliers().fit_transform(df)\n",
        "\n",
        "data_labels=df['median_house_value']\n",
        "df=df.drop('median_house_value',axis=1)\n",
        "\n",
        "#Transforming features\n",
        "df=FeaturesTransformer().fit_transform(df)\n",
        "\n",
        "num_features=['longitude', 'latitude', 'housing_median_age', 'total_rooms',\n",
        "       'total_bedrooms', 'population', 'households', 'median_income',\n",
        "       'rooms_per_household','bedrooms_per_room', 'population_per_household']\n",
        "\n",
        "#Mean value imputation, feature scaling, gettin gdummy variables\n",
        "num_pipeline=Pipeline([\n",
        "    ('selector',DataFrameSelector(num_features)),\n",
        "    ('imputer',SimpleImputer(strategy='median')),\n",
        "    ('std_scaler',StandardScaler())\n",
        "])\n",
        "\n",
        "\n",
        "\n",
        "\n",
        "df=num_pipeline.fit_transform(df)\n",
        "\n",
        "\n",
        "df=pd.DataFrame(df,columns=num_features)\n",
        "\n",
        "#Check for multicoliniearity\n",
        "remove_by_vif(df)\n",
        "#remove_by_pvalue(df,data_labels)\n",
        "\n",
        "data_prepared=df\n",
        "y_train=data_labels.copy()\n",
        "\n",
        "label_scaler=StandardScaler()\n",
        "data_labels=label_scaler.fit_transform(y_train.values.reshape(-1,1))"
      ],
      "execution_count": 7,
      "outputs": [
        {
          "output_type": "stream",
          "text": [
            "/usr/local/lib/python3.6/dist-packages/statsmodels/tools/_testing.py:19: FutureWarning: pandas.util.testing is deprecated. Use the functions in the public API at pandas.testing instead.\n",
            "  import pandas.util.testing as tm\n"
          ],
          "name": "stderr"
        },
        {
          "output_type": "stream",
          "text": [
            "Removed:  total_bedrooms , VIF:  527.044865460488\n",
            "Removed:  households , VIF:  227.00464185415933\n",
            "Removed:  total_rooms , VIF:  105.66309943947242\n",
            "Removed:  latitude , VIF:  10.494045207255974\n",
            "Removed:  bedrooms_per_room , VIF:  5.415584078774061\n"
          ],
          "name": "stdout"
        }
      ]
    },
    {
      "cell_type": "code",
      "metadata": {
        "id": "ejO-Vw1Oj9lB",
        "outputId": "23559899-a5a6-4588-d2f8-8eea3074f64d",
        "colab": {
          "base_uri": "https://localhost:8080/"
        }
      },
      "source": [
        "data_prepared.info()"
      ],
      "execution_count": 8,
      "outputs": [
        {
          "output_type": "stream",
          "text": [
            "<class 'pandas.core.frame.DataFrame'>\n",
            "RangeIndex: 19570 entries, 0 to 19569\n",
            "Data columns (total 6 columns):\n",
            " #   Column                    Non-Null Count  Dtype  \n",
            "---  ------                    --------------  -----  \n",
            " 0   longitude                 19570 non-null  float64\n",
            " 1   housing_median_age        19570 non-null  float64\n",
            " 2   population                19570 non-null  float64\n",
            " 3   median_income             19570 non-null  float64\n",
            " 4   rooms_per_household       19570 non-null  float64\n",
            " 5   population_per_household  19570 non-null  float64\n",
            "dtypes: float64(6)\n",
            "memory usage: 917.5 KB\n"
          ],
          "name": "stdout"
        }
      ]
    },
    {
      "cell_type": "markdown",
      "metadata": {
        "id": "mO9Xkabvl3XC"
      },
      "source": [
        "# chossing the ML algorithm"
      ]
    },
    {
      "cell_type": "code",
      "metadata": {
        "id": "Gh7hpg9KmIla"
      },
      "source": [
        "from sklearn.metrics import mean_squared_error,r2_score\n",
        "from sklearn.model_selection import learning_curve,cross_val_score,validation_curve,train_test_split\n",
        "from sklearn.model_selection import GridSearchCV"
      ],
      "execution_count": 9,
      "outputs": []
    },
    {
      "cell_type": "code",
      "metadata": {
        "id": "y8OCjd3UmK9y"
      },
      "source": [
        "def plot_validation_curve(scores,param_range,param_name,scoring='r2'):\n",
        "    \"\"\"This function plot validation curve.\n",
        "    \n",
        "    Parameters:\n",
        "        scores: scores obtained from validation_curve() method\n",
        "        param_range: list of range of parameters passed as 'param_range' in validation_curve() method\n",
        "        scoring: str\n",
        "    \"\"\"\n",
        "    n=len(param_range)\n",
        "    if scoring=='r2':\n",
        "        train_score=[scores[0][i].mean() for i in range (0,n)]\n",
        "        test_score=[scores[1][i].mean() for i in range (0,n)]\n",
        "    elif scoring=='neg_mean_squared_error':\n",
        "        train_score=[np.sqrt(-scores[0][i].mean()) for i in range (0,n)]\n",
        "        test_score=[np.sqrt(-scores[1][i].mean()) for i in range (0,n)]\n",
        "\n",
        "    fig=plt.figure(figsize=(8,6))\n",
        "    plt.plot(param_range,train_score,label='Train')\n",
        "    plt.plot(param_range,test_score,label='Test')\n",
        "    plt.xticks=param_range\n",
        "    plt.title(\"Validation curve of {}\".format(param_name),size=12)\n",
        "    plt.legend()"
      ],
      "execution_count": 10,
      "outputs": []
    },
    {
      "cell_type": "markdown",
      "metadata": {
        "id": "59kFvTiUnxYP"
      },
      "source": [
        "**Linear regression**"
      ]
    },
    {
      "cell_type": "code",
      "metadata": {
        "id": "MVjZWL__mQ4H"
      },
      "source": [
        "from sklearn.linear_model import LinearRegression,Ridge"
      ],
      "execution_count": 11,
      "outputs": []
    },
    {
      "cell_type": "code",
      "metadata": {
        "id": "poKhnQS2n5Ib",
        "outputId": "59afb522-0b6c-48fc-bc21-9cb6c66d76bf",
        "colab": {
          "base_uri": "https://localhost:8080/"
        }
      },
      "source": [
        "lr=LinearRegression()\n",
        "scores=cross_val_score(lr,data_prepared,data_labels,n_jobs=-1,cv=5,scoring='r2')\n",
        "print('R2: ',np.sqrt(scores).mean())"
      ],
      "execution_count": 12,
      "outputs": [
        {
          "output_type": "stream",
          "text": [
            "R2:  0.7399063593035337\n"
          ],
          "name": "stdout"
        }
      ]
    },
    {
      "cell_type": "code",
      "metadata": {
        "id": "aCj3pzZaoA5J",
        "outputId": "821ebb58-63ea-4a62-fcb8-2a2a0613c1c4",
        "colab": {
          "base_uri": "https://localhost:8080/"
        }
      },
      "source": [
        "lr=LinearRegression()\n",
        "scores=cross_val_score(lr,data_prepared,y_train,n_jobs=-1,cv=5,scoring='neg_mean_squared_error')\n",
        "print('RMSE: ',np.sqrt(-scores).mean())"
      ],
      "execution_count": 13,
      "outputs": [
        {
          "output_type": "stream",
          "text": [
            "RMSE:  74161.47714497453\n"
          ],
          "name": "stdout"
        }
      ]
    },
    {
      "cell_type": "markdown",
      "metadata": {
        "id": "fb88SQgloN1i"
      },
      "source": [
        "So with linear regression,\n",
        "\n",
        "R-squared=0.73\n",
        "\n",
        "RMSE=74161.4\n",
        "\n",
        "RMSE of above model is 74161  which means that there's an average error of $74161 in prediction of house price."
      ]
    },
    {
      "cell_type": "markdown",
      "metadata": {
        "id": "-gbf2BFmog97"
      },
      "source": [
        "# Ridge Regression"
      ]
    },
    {
      "cell_type": "code",
      "metadata": {
        "id": "oLB3vz4Mob_C",
        "outputId": "e42bf21d-8073-4f48-a7cb-606c67332314",
        "colab": {
          "base_uri": "https://localhost:8080/"
        }
      },
      "source": [
        "ridge=Ridge(alpha=0.1,random_state=42)\n",
        "scores=cross_val_score(ridge,data_prepared,data_labels,n_jobs=-1,cv=5,scoring='r2')\n",
        "print('R2: ',np.sqrt(scores).mean())"
      ],
      "execution_count": 14,
      "outputs": [
        {
          "output_type": "stream",
          "text": [
            "R2:  0.7399061868764222\n"
          ],
          "name": "stdout"
        }
      ]
    },
    {
      "cell_type": "code",
      "metadata": {
        "id": "v5_NrvAsoyBL",
        "outputId": "54846f5a-ba7a-4898-978d-c948c8728b41",
        "colab": {
          "base_uri": "https://localhost:8080/",
          "height": 390
        }
      },
      "source": [
        "ridge=Ridge(random_state=42)\n",
        "param_name='alpha'\n",
        "param_range = [1,10,50,100,200,300,500,700,1000]\n",
        "#param_range=[1,10,100,800,900,1000,1200,1400,1600,1800,2000]\n",
        "#scoring='r2'\n",
        "scoring='neg_mean_squared_error'\n",
        "curve=validation_curve(ridge,data_prepared,y_train,scoring=scoring,cv=5,param_name=param_name,\n",
        "    param_range=param_range,n_jobs=-1)\n",
        "\n",
        "n=len(param_range)\n",
        "'''if scoring=='r2':\n",
        "    train_score=[curve[0][i].mean() for i in range (0,n)]\n",
        "    test_score=[curve[1][i].mean() for i in range (0,n)]\n",
        "elif scoring=='neg_mean_squared_error':\n",
        "    train_score=[np.sqrt(-curve[0][i].mean()) for i in range (0,n)]\n",
        "    test_score=[np.sqrt(-curve[1][i].mean()) for i in range (0,n)]\n",
        "    '''\n",
        "\n",
        "plot_validation_curve(curve,param_range,param_name,scoring)"
      ],
      "execution_count": 15,
      "outputs": [
        {
          "output_type": "display_data",
          "data": {
            "image/png": "[encoded data removed]",
            "text/plain": [
              "<Figure size 576x432 with 1 Axes>"
            ]
          },
          "metadata": {
            "tags": [],
            "needs_background": "light"
          }
        }
      ]
    },
    {
      "cell_type": "markdown",
      "metadata": {
        "id": "jBLi8XNrphfu"
      },
      "source": [
        "# Support Vector Regression"
      ]
    },
    {
      "cell_type": "code",
      "metadata": {
        "id": "Ei8f9n_3pkjt"
      },
      "source": [
        "from sklearn.svm import SVR"
      ],
      "execution_count": 16,
      "outputs": []
    },
    {
      "cell_type": "code",
      "metadata": {
        "id": "F47qKMo0pnh6",
        "outputId": "6334416d-aba1-4c1a-be29-b6cc7f49b0c4",
        "colab": {
          "base_uri": "https://localhost:8080/"
        }
      },
      "source": [
        "svr=SVR(degree=2)\n",
        "param_grid={\n",
        "    'C':[1,10,50,100]\n",
        "}\n",
        "scoring='r2'\n",
        "grid=GridSearchCV(svr,param_grid,scoring=scoring,n_jobs=-1,cv=3,verbose=3)\n",
        "grid.fit(data_prepared,data_labels)"
      ],
      "execution_count": 17,
      "outputs": [
        {
          "output_type": "stream",
          "text": [
            "Fitting 3 folds for each of 4 candidates, totalling 12 fits\n"
          ],
          "name": "stdout"
        },
        {
          "output_type": "stream",
          "text": [
            "[Parallel(n_jobs=-1)]: Using backend LokyBackend with 2 concurrent workers.\n",
            "[Parallel(n_jobs=-1)]: Done  12 out of  12 | elapsed: 10.3min finished\n",
            "/usr/local/lib/python3.6/dist-packages/sklearn/utils/validation.py:760: DataConversionWarning: A column-vector y was passed when a 1d array was expected. Please change the shape of y to (n_samples, ), for example using ravel().\n",
            "  y = column_or_1d(y, warn=True)\n"
          ],
          "name": "stderr"
        },
        {
          "output_type": "execute_result",
          "data": {
            "text/plain": [
              "GridSearchCV(cv=3, error_score=nan,\n",
              "             estimator=SVR(C=1.0, cache_size=200, coef0=0.0, degree=2,\n",
              "                           epsilon=0.1, gamma='scale', kernel='rbf',\n",
              "                           max_iter=-1, shrinking=True, tol=0.001,\n",
              "                           verbose=False),\n",
              "             iid='deprecated', n_jobs=-1, param_grid={'C': [1, 10, 50, 100]},\n",
              "             pre_dispatch='2*n_jobs', refit=True, return_train_score=False,\n",
              "             scoring='r2', verbose=3)"
            ]
          },
          "metadata": {
            "tags": []
          },
          "execution_count": 17
        }
      ]
    },
    {
      "cell_type": "code",
      "metadata": {
        "id": "xY-MGUJwps_M",
        "outputId": "9ebe5fe7-69d4-42d8-ea93-db00aad4304d",
        "colab": {
          "base_uri": "https://localhost:8080/"
        }
      },
      "source": [
        "print(grid.best_params_)"
      ],
      "execution_count": 18,
      "outputs": [
        {
          "output_type": "stream",
          "text": [
            "{'C': 10}\n"
          ],
          "name": "stdout"
        }
      ]
    },
    {
      "cell_type": "code",
      "metadata": {
        "id": "s8ALAvOrpy4C",
        "outputId": "52a0d723-0680-416a-ce1a-fb73ca98966b",
        "colab": {
          "base_uri": "https://localhost:8080/"
        }
      },
      "source": [
        "svr=SVR(degree=2,C=10)\n",
        "scores=cross_val_score(svr,data_prepared,data_labels,n_jobs=-1,cv=5,scoring='r2')\n",
        "print('R2: ',np.sqrt(scores).mean())\n",
        "#need  r2 value closer to 1"
      ],
      "execution_count": 19,
      "outputs": [
        {
          "output_type": "stream",
          "text": [
            "R2:  0.8099945664889155\n"
          ],
          "name": "stdout"
        }
      ]
    },
    {
      "cell_type": "markdown",
      "metadata": {
        "id": "9-VDS1KO4M83"
      },
      "source": [
        "R2:  0.81\n",
        "So, with support vector machines\n",
        "\n",
        "R2=0.81\n",
        "\n",
        "which is better than Linear Regression model"
      ]
    },
    {
      "cell_type": "markdown",
      "metadata": {
        "id": "1-GUt5NN3UkL"
      },
      "source": [
        "# Decision Tree"
      ]
    },
    {
      "cell_type": "code",
      "metadata": {
        "id": "E1E7aol_pqUU"
      },
      "source": [
        "from sklearn.tree import DecisionTreeRegressor"
      ],
      "execution_count": 20,
      "outputs": []
    },
    {
      "cell_type": "code",
      "metadata": {
        "id": "UowVhm5MpNhU",
        "outputId": "927fe397-0ccb-4a10-d71f-46cd6bdcb43e",
        "colab": {
          "base_uri": "https://localhost:8080/"
        }
      },
      "source": [
        "dtr=DecisionTreeRegressor(random_state=42)\n",
        "scores=cross_val_score(dtr,data_prepared,y_train,n_jobs=-1,cv=5,scoring='r2')\n",
        "print('R2: ',np.sqrt(scores).mean())"
      ],
      "execution_count": 21,
      "outputs": [
        {
          "output_type": "stream",
          "text": [
            "R2:  0.6058149545243596\n"
          ],
          "name": "stdout"
        }
      ]
    },
    {
      "cell_type": "markdown",
      "metadata": {
        "id": "idZfAEyQPeA2"
      },
      "source": [
        "**max_depth**"
      ]
    },
    {
      "cell_type": "code",
      "metadata": {
        "id": "ndaBhXcM5hs-",
        "outputId": "f8147ebd-b40e-4c39-c101-3d27edd64f91",
        "colab": {
          "base_uri": "https://localhost:8080/",
          "height": 390
        }
      },
      "source": [
        "dtr=DecisionTreeRegressor(random_state=42)\n",
        "param_name='max_depth'\n",
        "param_range = range(2,21,2)\n",
        "scoring='neg_mean_squared_error'\n",
        "curve=validation_curve(dtr,data_prepared,y_train,scoring=scoring,cv=5,param_name=param_name,\n",
        "    param_range=param_range,n_jobs=-1)\n",
        "\n",
        "plot_validation_curve(curve,param_range,param_name,scoring)"
      ],
      "execution_count": 22,
      "outputs": [
        {
          "output_type": "display_data",
          "data": {
            "image/png": "[encoded data removed]",
            "text/plain": [
              "<Figure size 576x432 with 1 Axes>"
            ]
          },
          "metadata": {
            "tags": [],
            "needs_background": "light"
          }
        }
      ]
    },
    {
      "cell_type": "markdown",
      "metadata": {
        "id": "yhLoUK95PpYG"
      },
      "source": [
        "From above diagram it is clear that model starts overfitting heavily after max_depth=8\n",
        "\n",
        "max_depth: 3 to 8"
      ]
    },
    {
      "cell_type": "markdown",
      "metadata": {
        "id": "YohnM0J7Pxw9"
      },
      "source": [
        "# max_features"
      ]
    },
    {
      "cell_type": "code",
      "metadata": {
        "id": "8BzZByLwPqKQ",
        "outputId": "a9ee864a-f340-4a69-c420-cfc7c74bc940",
        "colab": {
          "base_uri": "https://localhost:8080/",
          "height": 390
        }
      },
      "source": [
        "dtr=DecisionTreeRegressor(max_depth=4,random_state=42)\n",
        "param_name='max_features'\n",
        "param_range = range(2,10)\n",
        "scoring='neg_mean_squared_error'\n",
        "curve=validation_curve(dtr,data_prepared,y_train,scoring=scoring,cv=5,param_name=param_name,\n",
        "    param_range=param_range,n_jobs=-1)\n",
        "plot_validation_curve(curve,param_range,param_name,scoring)"
      ],
      "execution_count": 23,
      "outputs": [
        {
          "output_type": "display_data",
          "data": {
            "image/png": "[encoded data removed]",
            "text/plain": [
              "<Figure size 576x432 with 1 Axes>"
            ]
          },
          "metadata": {
            "tags": [],
            "needs_background": "light"
          }
        }
      ]
    },
    {
      "cell_type": "markdown",
      "metadata": {
        "id": "6l_NhSuxP_Z-"
      },
      "source": [
        "max_features: 4 to 5"
      ]
    },
    {
      "cell_type": "markdown",
      "metadata": {
        "id": "16ETTT6hQIKb"
      },
      "source": [
        "**min_samples_split**"
      ]
    },
    {
      "cell_type": "code",
      "metadata": {
        "id": "BE9XezqfQEMN",
        "outputId": "522d8924-0e5c-4e60-92d2-8442fb302161",
        "colab": {
          "base_uri": "https://localhost:8080/",
          "height": 390
        }
      },
      "source": [
        "dtr=DecisionTreeRegressor(random_state=42)\n",
        "param_name='min_samples_split'\n",
        "param_range = range(2,2003,100)\n",
        "scoring='neg_mean_squared_error'\n",
        "curve=validation_curve(dtr,data_prepared,y_train,scoring=scoring,cv=5,param_name=param_name,\n",
        "    param_range=param_range,n_jobs=-1)\n",
        "plot_validation_curve(curve,param_range,param_name,scoring)"
      ],
      "execution_count": 24,
      "outputs": [
        {
          "output_type": "display_data",
          "data": {
            "image/png": "[encoded data removed]",
            "text/plain": [
              "<Figure size 576x432 with 1 Axes>"
            ]
          },
          "metadata": {
            "tags": [],
            "needs_background": "light"
          }
        }
      ]
    },
    {
      "cell_type": "markdown",
      "metadata": {
        "id": "lQfIJQvyQYXK"
      },
      "source": [
        "With incresing min_samples_split after 200, variance is reducing"
      ]
    },
    {
      "cell_type": "markdown",
      "metadata": {
        "id": "3IO_NlWkQaEy"
      },
      "source": [
        "**min_samples_leaf**"
      ]
    },
    {
      "cell_type": "code",
      "metadata": {
        "id": "wP4UWOlTQY2e",
        "outputId": "26238cfe-10b0-47c8-e17a-0548d90257e3",
        "colab": {
          "base_uri": "https://localhost:8080/",
          "height": 390
        }
      },
      "source": [
        "dtr=DecisionTreeRegressor(max_depth=4,random_state=42)\n",
        "param_name='min_samples_leaf'\n",
        "param_range = range(1,701,100)\n",
        "scoring='neg_mean_squared_error'\n",
        "curve=validation_curve(dtr,data_prepared,y_train,scoring=scoring,cv=5,param_name=param_name,\n",
        "    param_range=param_range,n_jobs=-1)\n",
        "plot_validation_curve(curve,param_range,param_name,scoring)"
      ],
      "execution_count": 25,
      "outputs": [
        {
          "output_type": "display_data",
          "data": {
            "image/png": "[encoded data removed]",
            "text/plain": [
              "<Figure size 576x432 with 1 Axes>"
            ]
          },
          "metadata": {
            "tags": [],
            "needs_background": "light"
          }
        }
      ]
    },
    {
      "cell_type": "markdown",
      "metadata": {
        "id": "jm-GRJalQk55"
      },
      "source": [
        "Increasing min_samples_leaf is neither giving good results nor helping to reduce overfitting."
      ]
    },
    {
      "cell_type": "markdown",
      "metadata": {
        "id": "-w291tSvQo-Z"
      },
      "source": [
        "# Gradient Boosting Regression"
      ]
    },
    {
      "cell_type": "code",
      "metadata": {
        "id": "ZbOYpy_SQfGP"
      },
      "source": [
        "from sklearn.ensemble import GradientBoostingRegressor"
      ],
      "execution_count": 26,
      "outputs": []
    },
    {
      "cell_type": "code",
      "metadata": {
        "id": "C6Nyb_qVUshk",
        "outputId": "865393f0-749e-4c00-87a9-ae3442ade717",
        "colab": {
          "base_uri": "https://localhost:8080/"
        }
      },
      "source": [
        "data_prepared.columns"
      ],
      "execution_count": 27,
      "outputs": [
        {
          "output_type": "execute_result",
          "data": {
            "text/plain": [
              "Index(['longitude', 'housing_median_age', 'population', 'median_income',\n",
              "       'rooms_per_household', 'population_per_household'],\n",
              "      dtype='object')"
            ]
          },
          "metadata": {
            "tags": []
          },
          "execution_count": 27
        }
      ]
    },
    {
      "cell_type": "code",
      "metadata": {
        "id": "stQ_4YVIQwd_",
        "outputId": "6f10a423-3bd1-4dee-8ae1-c023ed33cb8d",
        "colab": {
          "base_uri": "https://localhost:8080/"
        }
      },
      "source": [
        "gbr=GradientBoostingRegressor(random_state=42)\n",
        "param_grid={\n",
        "    'n_estimators':[100,500,1000],\n",
        "    'max_depth':range(3,9,1),\n",
        "    'max_features':[5,6,9],\n",
        "    'min_samples_split':[200,400]  \n",
        "}\n",
        "scoring='r2'\n",
        "grid=GridSearchCV(gbr,param_grid,scoring=scoring,n_jobs=-1,cv=3,verbose=1)\n",
        "grid.fit(data_prepared,y_train)\n",
        "print(grid.best_params_)"
      ],
      "execution_count": 28,
      "outputs": [
        {
          "output_type": "stream",
          "text": [
            "Fitting 3 folds for each of 108 candidates, totalling 324 fits\n"
          ],
          "name": "stdout"
        },
        {
          "output_type": "stream",
          "text": [
            "[Parallel(n_jobs=-1)]: Using backend LokyBackend with 2 concurrent workers.\n",
            "[Parallel(n_jobs=-1)]: Done  46 tasks      | elapsed:  4.8min\n",
            "[Parallel(n_jobs=-1)]: Done 196 tasks      | elapsed: 28.9min\n",
            "[Parallel(n_jobs=-1)]: Done 324 out of 324 | elapsed: 53.7min finished\n"
          ],
          "name": "stderr"
        },
        {
          "output_type": "stream",
          "text": [
            "{'max_depth': 4, 'max_features': 6, 'min_samples_split': 200, 'n_estimators': 500}\n"
          ],
          "name": "stdout"
        }
      ]
    },
    {
      "cell_type": "markdown",
      "metadata": {
        "id": "WV1tREi6cGjM"
      },
      "source": [
        "**Check for n_estimators**"
      ]
    },
    {
      "cell_type": "code",
      "metadata": {
        "id": "EwaElTAjb-4z",
        "outputId": "8e3cb8a4-cb1b-48aa-cc5c-f704ff956d5b",
        "colab": {
          "base_uri": "https://localhost:8080/",
          "height": 390
        }
      },
      "source": [
        "gbr=GradientBoostingRegressor(max_depth= 5, max_features=5, min_samples_split=200,random_state=42)\n",
        "param_name='n_estimators'\n",
        "param_range = range(50,251,50)\n",
        "scoring='r2'\n",
        "curve=validation_curve(gbr,data_prepared,y_train,scoring=scoring,cv=5,param_name=param_name,\n",
        "    param_range=param_range,n_jobs=-1)\n",
        "plot_validation_curve(curve,param_range,param_name,scoring)"
      ],
      "execution_count": 29,
      "outputs": [
        {
          "output_type": "display_data",
          "data": {
            "image/png": "[encoded data removed]",
            "text/plain": [
              "<Figure size 576x432 with 1 Axes>"
            ]
          },
          "metadata": {
            "tags": [],
            "needs_background": "light"
          }
        }
      ]
    },
    {
      "cell_type": "markdown",
      "metadata": {
        "id": "8JHXpi5le7V_"
      },
      "source": [
        "With increasing number of estimators, model is overfitting. With lower number of estimators, model is underfitting.\n",
        "\n",
        "I chose n_estimators=100"
      ]
    },
    {
      "cell_type": "code",
      "metadata": {
        "id": "-Fa3TkkXcK91",
        "outputId": "4755007d-d1ab-4879-a5ba-65a81378c06f",
        "colab": {
          "base_uri": "https://localhost:8080/"
        }
      },
      "source": [
        "gbr=GradientBoostingRegressor(max_depth=5, max_features=5, min_samples_split=200, n_estimators=100,random_state=42)\n",
        "scores=cross_val_score(gbr,data_prepared,y_train,n_jobs=-1,cv=5,scoring='r2')\n",
        "print('R2: ',np.sqrt(scores).mean())"
      ],
      "execution_count": 30,
      "outputs": [
        {
          "output_type": "stream",
          "text": [
            "R2:  0.8294341940522976\n"
          ],
          "name": "stdout"
        }
      ]
    },
    {
      "cell_type": "markdown",
      "metadata": {
        "id": "lIbp34e-Z52d"
      },
      "source": [
        "better tha SVC"
      ]
    },
    {
      "cell_type": "markdown",
      "metadata": {
        "id": "IeI_sp7GaAKt"
      },
      "source": [
        "# Stacking\n",
        "\n",
        "This is another ensembling method.\n",
        "\n",
        "In this, I have used Linear regression and Gradient boosing regression as base models and Support Vector Regression as meta model."
      ]
    },
    {
      "cell_type": "code",
      "metadata": {
        "id": "LOCTVq1DZhWk"
      },
      "source": [
        "from mlxtend.regressor import StackingRegressor"
      ],
      "execution_count": 32,
      "outputs": []
    },
    {
      "cell_type": "code",
      "metadata": {
        "id": "EiURfTdNaIMD",
        "outputId": "94ff4740-c594-4c5f-e60e-26d7c573709a",
        "colab": {
          "base_uri": "https://localhost:8080/"
        }
      },
      "source": [
        "sr=StackingRegressor([lr,gbr],svr,verbose=3)\n",
        "scores=cross_val_score(sr,data_prepared,data_labels,n_jobs=-1,cv=3,scoring='r2')\n",
        "print('R2: ',np.sqrt(scores).mean())"
      ],
      "execution_count": 33,
      "outputs": [
        {
          "output_type": "stream",
          "text": [
            "R2:  0.8052339929300105\n"
          ],
          "name": "stdout"
        }
      ]
    },
    {
      "cell_type": "markdown",
      "metadata": {
        "id": "gCH9v90ramE4"
      },
      "source": [
        "# Final Model\n",
        "I finalized following Gradient Boosing Regressor with following parameters:\n",
        "\n",
        "n_estimators=100\n",
        "max_depth=8\n",
        "max_features=6\n",
        "min_samples_split=200"
      ]
    },
    {
      "cell_type": "markdown",
      "metadata": {
        "id": "PfggTU-NaxSd"
      },
      "source": [
        "# Learning Curve"
      ]
    },
    {
      "cell_type": "code",
      "metadata": {
        "id": "balp32FfagC6",
        "outputId": "24791df8-7214-4bd9-aed5-a8b6b30f70e6",
        "colab": {
          "base_uri": "https://localhost:8080/",
          "height": 500
        }
      },
      "source": [
        "gbr=GradientBoostingRegressor(max_depth= 8, max_features=6, min_samples_split=200, n_estimators=100,random_state=42)\n",
        "lc=learning_curve(gbr,data_prepared,y_train,cv=5,n_jobs=-1)\n",
        "size=lc[0]\n",
        "train_score=[lc[1][i].mean() for i in range (0,5)]\n",
        "test_score=[lc[2][i].mean() for i in range (0,5)]\n",
        "fig=plt.figure(figsize=(12,8))\n",
        "plt.plot(size,train_score,label='Train')\n",
        "plt.plot(size,test_score,label=\"Test\")\n",
        "plt.legend()"
      ],
      "execution_count": 34,
      "outputs": [
        {
          "output_type": "execute_result",
          "data": {
            "text/plain": [
              "<matplotlib.legend.Legend at 0x7f0a113ca860>"
            ]
          },
          "metadata": {
            "tags": []
          },
          "execution_count": 34
        },
        {
          "output_type": "display_data",
          "data": {
            "image/png": "[encoded data removed]",
            "text/plain": [
              "<Figure size 864x576 with 1 Axes>"
            ]
          },
          "metadata": {
            "tags": [],
            "needs_background": "light"
          }
        }
      ]
    },
    {
      "cell_type": "markdown",
      "metadata": {
        "id": "hnl6jcigbJm1"
      },
      "source": [
        "# Predicting on Test Set"
      ]
    },
    {
      "cell_type": "code",
      "metadata": {
        "id": "16neuh9VbCpQ"
      },
      "source": [
        "test_data=pd.read_csv('/content/sample_data/california_housing_test.csv')\n",
        "test_data_labels=test_data['median_house_value'].copy()\n",
        "test_data.drop('median_house_value',axis=1,inplace=True)"
      ],
      "execution_count": 36,
      "outputs": []
    },
    {
      "cell_type": "code",
      "metadata": {
        "id": "fhtDalKNbPeU"
      },
      "source": [
        "fa=FeaturesAdder()\n",
        "df_test=fa.fit_transform(test_data)\n",
        "\n",
        "df_test=FeaturesTransformer().fit_transform(df_test)\n",
        "\n",
        "#used 'transform' method, as I don't want to refit the standard scalar on test data.\n",
        "df_test=num_pipeline.transform(df_test)\n",
        "\n",
        "df_test=pd.DataFrame(df_test,columns=num_features)"
      ],
      "execution_count": 39,
      "outputs": []
    },
    {
      "cell_type": "code",
      "metadata": {
        "id": "GsrTnAQibSRM"
      },
      "source": [
        "#used 'transform' method, as I don't want to refit the standard scalar on test data.\n",
        "\n",
        "y_test=test_data_labels.copy()\n",
        "test_data_labels=label_scaler.transform(y_test.values.reshape(-1,1))\n"
      ],
      "execution_count": 40,
      "outputs": []
    },
    {
      "cell_type": "code",
      "metadata": {
        "id": "2odCIeNnbU3w"
      },
      "source": [
        "test_data_prepared=df_test[data_prepared.columns]"
      ],
      "execution_count": 41,
      "outputs": []
    },
    {
      "cell_type": "code",
      "metadata": {
        "id": "qTWutYkybXtB",
        "outputId": "9ca3327e-21c1-4c82-d3ff-aaff2e927340",
        "colab": {
          "base_uri": "https://localhost:8080/"
        }
      },
      "source": [
        "gbr=GradientBoostingRegressor(max_depth= 8, max_features=6, min_samples_split=200, n_estimators=100,random_state=42)\n",
        "gbr.fit(data_prepared,data_labels)\n",
        "train_pred=gbr.predict(data_prepared)\n",
        "test_pred=gbr.predict(test_data_prepared)"
      ],
      "execution_count": 42,
      "outputs": [
        {
          "output_type": "stream",
          "text": [
            "/usr/local/lib/python3.6/dist-packages/sklearn/ensemble/_gb.py:1454: DataConversionWarning: A column-vector y was passed when a 1d array was expected. Please change the shape of y to (n_samples, ), for example using ravel().\n",
            "  y = column_or_1d(y, warn=True)\n"
          ],
          "name": "stderr"
        }
      ]
    },
    {
      "cell_type": "code",
      "metadata": {
        "id": "YThrRMcqbb9Z",
        "outputId": "10b465e0-bc6f-4b06-ea06-9540489eb8b3",
        "colab": {
          "base_uri": "https://localhost:8080/"
        }
      },
      "source": [
        "mse=mean_squared_error(y_train,label_scaler.inverse_transform(train_pred))\n",
        "rmse=np.sqrt(mse)\n",
        "print('train error:',rmse)\n",
        "mse=mean_squared_error(y_test,label_scaler.inverse_transform(test_pred))\n",
        "rmse=np.sqrt(mse)\n",
        "print('test eroor:',rmse)"
      ],
      "execution_count": 43,
      "outputs": [
        {
          "output_type": "stream",
          "text": [
            "train error: 45733.1302088771\n",
            "test eroor: 120400.18244506029\n"
          ],
          "name": "stdout"
        }
      ]
    }
  ]
}