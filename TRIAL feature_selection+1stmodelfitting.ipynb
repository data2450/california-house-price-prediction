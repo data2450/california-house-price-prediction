{
  "nbformat": 4,
  "nbformat_minor": 0,
  "metadata": {
    "colab": {
      "name": "california house price feature selection.ipynb",
      "provenance": [],
      "authorship_tag": "ABX9TyM9c7RlkQjgi29s6ILo698/",
      "include_colab_link": true
    },
    "kernelspec": {
      "name": "python3",
      "display_name": "Python 3"
    }
  },
  "cells": [
    {
      "cell_type": "markdown",
      "metadata": {
        "id": "view-in-github",
        "colab_type": "text"
      },
      "source": [
        "<a href=\"https://colab.research.google.com/github/data2450/california-house-price-prediction/blob/main/california_house_price_feature_selection.ipynb\" target=\"_parent\"><img src=\"https://colab.research.google.com/assets/colab-badge.svg\" alt=\"Open In Colab\"/></a>"
      ]
    },
    {
      "cell_type": "code",
      "metadata": {
        "id": "uEND3VFjGGXQ"
      },
      "source": [
        "import pandas as pd\n",
        "import numpy as np"
      ],
      "execution_count": null,
      "outputs": []
    },
    {
      "cell_type": "code",
      "metadata": {
        "id": "-MlGHEY_HcB_"
      },
      "source": [
        "url1='https://raw.githubusercontent.com/data2450/california-house-price-prediction/main/X1_train.csv'\n",
        "url2='https://raw.githubusercontent.com/data2450/california-house-price-prediction/main/X1_test.csv'"
      ],
      "execution_count": null,
      "outputs": []
    },
    {
      "cell_type": "code",
      "metadata": {
        "id": "YIJX9QuDHtHb"
      },
      "source": [
        "train=pd.read_csv(url1)\n",
        "test=pd.read_csv(url2)"
      ],
      "execution_count": null,
      "outputs": []
    },
    {
      "cell_type": "code",
      "metadata": {
        "id": "uVis-VxTH3Ao"
      },
      "source": [
        "#split it into target and features\n",
        "y_train=train['median_house_value']\n",
        "y_test=test['median_house_value']"
      ],
      "execution_count": null,
      "outputs": []
    },
    {
      "cell_type": "code",
      "metadata": {
        "id": "AL3en_jyKKA1",
        "outputId": "d82dd10e-a318-4658-9b70-2a4095b8757a",
        "colab": {
          "base_uri": "https://localhost:8080/",
          "height": 126
        }
      },
      "source": [
        "y_train.head()"
      ],
      "execution_count": null,
      "outputs": [
        {
          "output_type": "execute_result",
          "data": {
            "text/plain": [
              "0    11.110954\n",
              "1    11.291031\n",
              "2    11.358608\n",
              "3    11.203679\n",
              "4    11.089805\n",
              "Name: median_house_value, dtype: float64"
            ]
          },
          "metadata": {
            "tags": []
          },
          "execution_count": 5
        }
      ]
    },
    {
      "cell_type": "code",
      "metadata": {
        "id": "F1KREYMeIkB7"
      },
      "source": [
        "X_train=train.drop('median_house_value',axis=1)\n"
      ],
      "execution_count": null,
      "outputs": []
    },
    {
      "cell_type": "code",
      "metadata": {
        "id": "RGOy2EYkJCfN"
      },
      "source": [
        "X_test=test.drop('median_house_value',axis=1)"
      ],
      "execution_count": null,
      "outputs": []
    },
    {
      "cell_type": "code",
      "metadata": {
        "id": "4nzm8ehJIy7M",
        "outputId": "9e600bfc-d005-46e3-b7c5-bfd1dade5b16",
        "colab": {
          "base_uri": "https://localhost:8080/",
          "height": 348
        }
      },
      "source": [
        "X_train.head(10)"
      ],
      "execution_count": null,
      "outputs": [
        {
          "output_type": "execute_result",
          "data": {
            "text/html": [
              "<div>\n",
              "<style scoped>\n",
              "    .dataframe tbody tr th:only-of-type {\n",
              "        vertical-align: middle;\n",
              "    }\n",
              "\n",
              "    .dataframe tbody tr th {\n",
              "        vertical-align: top;\n",
              "    }\n",
              "\n",
              "    .dataframe thead th {\n",
              "        text-align: right;\n",
              "    }\n",
              "</style>\n",
              "<table border=\"1\" class=\"dataframe\">\n",
              "  <thead>\n",
              "    <tr style=\"text-align: right;\">\n",
              "      <th></th>\n",
              "      <th>longitude</th>\n",
              "      <th>latitude</th>\n",
              "      <th>housing_median_age</th>\n",
              "      <th>total_rooms</th>\n",
              "      <th>total_bedrooms</th>\n",
              "      <th>population</th>\n",
              "      <th>households</th>\n",
              "      <th>median_income</th>\n",
              "    </tr>\n",
              "  </thead>\n",
              "  <tbody>\n",
              "    <tr>\n",
              "      <th>0</th>\n",
              "      <td>1.000000</td>\n",
              "      <td>0.194730</td>\n",
              "      <td>0.685367</td>\n",
              "      <td>0.805998</td>\n",
              "      <td>0.815974</td>\n",
              "      <td>0.620648</td>\n",
              "      <td>0.706636</td>\n",
              "      <td>0.321790</td>\n",
              "    </tr>\n",
              "    <tr>\n",
              "      <th>1</th>\n",
              "      <td>0.984064</td>\n",
              "      <td>0.218837</td>\n",
              "      <td>0.745193</td>\n",
              "      <td>0.837448</td>\n",
              "      <td>0.860801</td>\n",
              "      <td>0.631992</td>\n",
              "      <td>0.704426</td>\n",
              "      <td>0.379897</td>\n",
              "    </tr>\n",
              "    <tr>\n",
              "      <th>2</th>\n",
              "      <td>0.975100</td>\n",
              "      <td>0.136732</td>\n",
              "      <td>0.717043</td>\n",
              "      <td>0.597542</td>\n",
              "      <td>0.588191</td>\n",
              "      <td>0.501879</td>\n",
              "      <td>0.546554</td>\n",
              "      <td>0.351228</td>\n",
              "    </tr>\n",
              "    <tr>\n",
              "      <th>3</th>\n",
              "      <td>0.974104</td>\n",
              "      <td>0.130884</td>\n",
              "      <td>0.667905</td>\n",
              "      <td>0.672120</td>\n",
              "      <td>0.663555</td>\n",
              "      <td>0.548345</td>\n",
              "      <td>0.622114</td>\n",
              "      <td>0.545040</td>\n",
              "    </tr>\n",
              "    <tr>\n",
              "      <th>4</th>\n",
              "      <td>0.974104</td>\n",
              "      <td>0.122684</td>\n",
              "      <td>0.758175</td>\n",
              "      <td>0.668890</td>\n",
              "      <td>0.659772</td>\n",
              "      <td>0.568804</td>\n",
              "      <td>0.639078</td>\n",
              "      <td>0.396387</td>\n",
              "    </tr>\n",
              "    <tr>\n",
              "      <th>5</th>\n",
              "      <td>0.973108</td>\n",
              "      <td>0.129714</td>\n",
              "      <td>0.852212</td>\n",
              "      <td>0.664101</td>\n",
              "      <td>0.622939</td>\n",
              "      <td>0.576543</td>\n",
              "      <td>0.628533</td>\n",
              "      <td>0.558727</td>\n",
              "    </tr>\n",
              "    <tr>\n",
              "      <th>6</th>\n",
              "      <td>0.973108</td>\n",
              "      <td>0.127372</td>\n",
              "      <td>0.814649</td>\n",
              "      <td>0.739222</td>\n",
              "      <td>0.743592</td>\n",
              "      <td>0.684100</td>\n",
              "      <td>0.740320</td>\n",
              "      <td>0.493317</td>\n",
              "    </tr>\n",
              "    <tr>\n",
              "      <th>7</th>\n",
              "      <td>0.972112</td>\n",
              "      <td>0.267743</td>\n",
              "      <td>0.939849</td>\n",
              "      <td>0.609749</td>\n",
              "      <td>0.584190</td>\n",
              "      <td>0.514538</td>\n",
              "      <td>0.581033</td>\n",
              "      <td>0.361276</td>\n",
              "    </tr>\n",
              "    <tr>\n",
              "      <th>8</th>\n",
              "      <td>0.972112</td>\n",
              "      <td>0.127372</td>\n",
              "      <td>0.892468</td>\n",
              "      <td>0.789899</td>\n",
              "      <td>0.805949</td>\n",
              "      <td>0.740794</td>\n",
              "      <td>0.799056</td>\n",
              "      <td>0.432717</td>\n",
              "    </tr>\n",
              "    <tr>\n",
              "      <th>9</th>\n",
              "      <td>0.971116</td>\n",
              "      <td>0.267743</td>\n",
              "      <td>0.968971</td>\n",
              "      <td>0.671849</td>\n",
              "      <td>0.653666</td>\n",
              "      <td>0.593536</td>\n",
              "      <td>0.642954</td>\n",
              "      <td>0.434413</td>\n",
              "    </tr>\n",
              "  </tbody>\n",
              "</table>\n",
              "</div>"
            ],
            "text/plain": [
              "   longitude  latitude  ...  households  median_income\n",
              "0   1.000000  0.194730  ...    0.706636       0.321790\n",
              "1   0.984064  0.218837  ...    0.704426       0.379897\n",
              "2   0.975100  0.136732  ...    0.546554       0.351228\n",
              "3   0.974104  0.130884  ...    0.622114       0.545040\n",
              "4   0.974104  0.122684  ...    0.639078       0.396387\n",
              "5   0.973108  0.129714  ...    0.628533       0.558727\n",
              "6   0.973108  0.127372  ...    0.740320       0.493317\n",
              "7   0.972112  0.267743  ...    0.581033       0.361276\n",
              "8   0.972112  0.127372  ...    0.799056       0.432717\n",
              "9   0.971116  0.267743  ...    0.642954       0.434413\n",
              "\n",
              "[10 rows x 8 columns]"
            ]
          },
          "metadata": {
            "tags": []
          },
          "execution_count": 8
        }
      ]
    },
    {
      "cell_type": "code",
      "metadata": {
        "id": "tqekVpxTJEns",
        "outputId": "2893d9cd-2c67-4bf7-90b1-37b09b2d85c5",
        "colab": {
          "base_uri": "https://localhost:8080/",
          "height": 348
        }
      },
      "source": [
        "X_test.head(10)"
      ],
      "execution_count": null,
      "outputs": [
        {
          "output_type": "execute_result",
          "data": {
            "text/html": [
              "<div>\n",
              "<style scoped>\n",
              "    .dataframe tbody tr th:only-of-type {\n",
              "        vertical-align: middle;\n",
              "    }\n",
              "\n",
              "    .dataframe tbody tr th {\n",
              "        vertical-align: top;\n",
              "    }\n",
              "\n",
              "    .dataframe thead th {\n",
              "        text-align: right;\n",
              "    }\n",
              "</style>\n",
              "<table border=\"1\" class=\"dataframe\">\n",
              "  <thead>\n",
              "    <tr style=\"text-align: right;\">\n",
              "      <th></th>\n",
              "      <th>longitude</th>\n",
              "      <th>latitude</th>\n",
              "      <th>housing_median_age</th>\n",
              "      <th>total_rooms</th>\n",
              "      <th>total_bedrooms</th>\n",
              "      <th>population</th>\n",
              "      <th>households</th>\n",
              "      <th>median_income</th>\n",
              "    </tr>\n",
              "  </thead>\n",
              "  <tbody>\n",
              "    <tr>\n",
              "      <th>0</th>\n",
              "      <td>0.219814</td>\n",
              "      <td>0.545293</td>\n",
              "      <td>0.834126</td>\n",
              "      <td>0.758680</td>\n",
              "      <td>0.733834</td>\n",
              "      <td>0.736475</td>\n",
              "      <td>0.731597</td>\n",
              "      <td>0.759011</td>\n",
              "    </tr>\n",
              "    <tr>\n",
              "      <th>1</th>\n",
              "      <td>0.606811</td>\n",
              "      <td>0.201418</td>\n",
              "      <td>0.951903</td>\n",
              "      <td>0.647920</td>\n",
              "      <td>0.638043</td>\n",
              "      <td>0.653959</td>\n",
              "      <td>0.631358</td>\n",
              "      <td>0.580350</td>\n",
              "    </tr>\n",
              "    <tr>\n",
              "      <th>2</th>\n",
              "      <td>0.657379</td>\n",
              "      <td>0.145578</td>\n",
              "      <td>0.834126</td>\n",
              "      <td>0.749391</td>\n",
              "      <td>0.700278</td>\n",
              "      <td>0.731963</td>\n",
              "      <td>0.705691</td>\n",
              "      <td>0.720310</td>\n",
              "    </tr>\n",
              "    <tr>\n",
              "      <th>3</th>\n",
              "      <td>0.600619</td>\n",
              "      <td>0.150261</td>\n",
              "      <td>0.843331</td>\n",
              "      <td>0.282807</td>\n",
              "      <td>0.254905</td>\n",
              "      <td>0.293449</td>\n",
              "      <td>0.218279</td>\n",
              "      <td>0.737197</td>\n",
              "    </tr>\n",
              "    <tr>\n",
              "      <th>4</th>\n",
              "      <td>0.465428</td>\n",
              "      <td>0.433592</td>\n",
              "      <td>0.745193</td>\n",
              "      <td>0.624925</td>\n",
              "      <td>0.607756</td>\n",
              "      <td>0.660316</td>\n",
              "      <td>0.611389</td>\n",
              "      <td>0.520640</td>\n",
              "    </tr>\n",
              "    <tr>\n",
              "      <th>5</th>\n",
              "      <td>0.476780</td>\n",
              "      <td>0.453152</td>\n",
              "      <td>0.913869</td>\n",
              "      <td>0.601710</td>\n",
              "      <td>0.590567</td>\n",
              "      <td>0.628371</td>\n",
              "      <td>0.592190</td>\n",
              "      <td>0.353463</td>\n",
              "    </tr>\n",
              "    <tr>\n",
              "      <th>6</th>\n",
              "      <td>0.283798</td>\n",
              "      <td>0.676530</td>\n",
              "      <td>0.951903</td>\n",
              "      <td>0.600669</td>\n",
              "      <td>0.597500</td>\n",
              "      <td>0.616388</td>\n",
              "      <td>0.600689</td>\n",
              "      <td>0.353569</td>\n",
              "    </tr>\n",
              "    <tr>\n",
              "      <th>7</th>\n",
              "      <td>0.364293</td>\n",
              "      <td>0.339897</td>\n",
              "      <td>0.745193</td>\n",
              "      <td>0.697748</td>\n",
              "      <td>0.690961</td>\n",
              "      <td>0.718936</td>\n",
              "      <td>0.690901</td>\n",
              "      <td>0.548091</td>\n",
              "    </tr>\n",
              "    <tr>\n",
              "      <th>8</th>\n",
              "      <td>0.138287</td>\n",
              "      <td>0.652897</td>\n",
              "      <td>0.685367</td>\n",
              "      <td>0.731466</td>\n",
              "      <td>0.725120</td>\n",
              "      <td>0.728628</td>\n",
              "      <td>0.730109</td>\n",
              "      <td>0.586061</td>\n",
              "    </tr>\n",
              "    <tr>\n",
              "      <th>9</th>\n",
              "      <td>0.635707</td>\n",
              "      <td>0.180570</td>\n",
              "      <td>0.869090</td>\n",
              "      <td>0.702325</td>\n",
              "      <td>0.728158</td>\n",
              "      <td>0.814961</td>\n",
              "      <td>0.730961</td>\n",
              "      <td>0.452940</td>\n",
              "    </tr>\n",
              "  </tbody>\n",
              "</table>\n",
              "</div>"
            ],
            "text/plain": [
              "   longitude  latitude  ...  households  median_income\n",
              "0   0.219814  0.545293  ...    0.731597       0.759011\n",
              "1   0.606811  0.201418  ...    0.631358       0.580350\n",
              "2   0.657379  0.145578  ...    0.705691       0.720310\n",
              "3   0.600619  0.150261  ...    0.218279       0.737197\n",
              "4   0.465428  0.433592  ...    0.611389       0.520640\n",
              "5   0.476780  0.453152  ...    0.592190       0.353463\n",
              "6   0.283798  0.676530  ...    0.600689       0.353569\n",
              "7   0.364293  0.339897  ...    0.690901       0.548091\n",
              "8   0.138287  0.652897  ...    0.730109       0.586061\n",
              "9   0.635707  0.180570  ...    0.730961       0.452940\n",
              "\n",
              "[10 rows x 8 columns]"
            ]
          },
          "metadata": {
            "tags": []
          },
          "execution_count": 9
        }
      ]
    },
    {
      "cell_type": "markdown",
      "metadata": {
        "id": "Jxe7zOa1J3gk"
      },
      "source": [
        "# Feature selection"
      ]
    },
    {
      "cell_type": "code",
      "metadata": {
        "id": "aJslqrppJ5wy"
      },
      "source": [
        "from sklearn.linear_model import Lasso\n",
        "from sklearn.feature_selection import SelectFromModel\n",
        "from sklearn.linear_model import LinearRegression"
      ],
      "execution_count": null,
      "outputs": []
    },
    {
      "cell_type": "code",
      "metadata": {
        "id": "bs9hoxtMKBNT",
        "outputId": "cf1a87e9-60bc-4394-aa62-32bd06434e4d",
        "colab": {
          "base_uri": "https://localhost:8080/",
          "height": 126
        }
      },
      "source": [
        "feature_sel_model = SelectFromModel(Lasso(alpha=0.005, random_state=0)) # remember to set the seed, the random state in this function\n",
        "feature_sel_model.fit(X_train, y_train)"
      ],
      "execution_count": null,
      "outputs": [
        {
          "output_type": "execute_result",
          "data": {
            "text/plain": [
              "SelectFromModel(estimator=Lasso(alpha=0.005, copy_X=True, fit_intercept=True,\n",
              "                                max_iter=1000, normalize=False, positive=False,\n",
              "                                precompute=False, random_state=0,\n",
              "                                selection='cyclic', tol=0.0001,\n",
              "                                warm_start=False),\n",
              "                max_features=None, norm_order=1, prefit=False, threshold=None)"
            ]
          },
          "metadata": {
            "tags": []
          },
          "execution_count": 11
        }
      ]
    },
    {
      "cell_type": "code",
      "metadata": {
        "id": "sGrqA3ppKNtT",
        "outputId": "431bd5c0-ee4c-424a-f163-7e353f140911",
        "colab": {
          "base_uri": "https://localhost:8080/",
          "height": 35
        }
      },
      "source": [
        "feature_sel_model.get_support()"
      ],
      "execution_count": null,
      "outputs": [
        {
          "output_type": "execute_result",
          "data": {
            "text/plain": [
              "array([ True,  True,  True, False, False, False, False,  True])"
            ]
          },
          "metadata": {
            "tags": []
          },
          "execution_count": 12
        }
      ]
    },
    {
      "cell_type": "code",
      "metadata": {
        "id": "NGBLGX2fKRo3"
      },
      "source": [
        "selected_feat = X_train.columns[(feature_sel_model.get_support())]\n"
      ],
      "execution_count": null,
      "outputs": []
    },
    {
      "cell_type": "code",
      "metadata": {
        "id": "Qn6BVOWQKZ-N",
        "outputId": "7254ab99-3e8d-4615-e517-920d191c4bea",
        "colab": {
          "base_uri": "https://localhost:8080/",
          "height": 35
        }
      },
      "source": [
        "selected_feat"
      ],
      "execution_count": null,
      "outputs": [
        {
          "output_type": "execute_result",
          "data": {
            "text/plain": [
              "Index(['longitude', 'latitude', 'housing_median_age', 'median_income'], dtype='object')"
            ]
          },
          "metadata": {
            "tags": []
          },
          "execution_count": 14
        }
      ]
    },
    {
      "cell_type": "code",
      "metadata": {
        "id": "X40X5KTGKg-8",
        "outputId": "81c00012-cb66-4301-a72d-7e0656a4b832",
        "colab": {
          "base_uri": "https://localhost:8080/",
          "height": 292
        }
      },
      "source": [
        "linridge = Lasso(alpha=0).fit(X_train, y_train)\n",
        "\n",
        "print('california_house_price')\n",
        "print('ridge regression linear model intercept: {}'\n",
        "     .format(linridge.intercept_))\n",
        "print('ridge regression linear model coeff:\\n{}'\n",
        "     .format(linridge.coef_))\n",
        "print('R-squared score (training): {:.3f}'\n",
        "     .format(linridge.score(X_train, y_train)))\n",
        "print('R-squared score (test): {:.3f}'\n",
        "     .format(linridge.score(X_test, y_test)))\n",
        "print('Number of non-zero features: {}'\n",
        "     .format(np.sum(linridge.coef_ != 0)))"
      ],
      "execution_count": null,
      "outputs": [
        {
          "output_type": "stream",
          "text": [
            "/usr/local/lib/python3.6/dist-packages/ipykernel_launcher.py:1: UserWarning: With alpha=0, this algorithm does not converge well. You are advised to use the LinearRegression estimator\n",
            "  \"\"\"Entry point for launching an IPython kernel.\n",
            "/usr/local/lib/python3.6/dist-packages/sklearn/linear_model/_coordinate_descent.py:476: UserWarning: Coordinate descent with no regularization may lead to unexpected results and is discouraged.\n",
            "  positive)\n"
          ],
          "name": "stderr"
        },
        {
          "output_type": "stream",
          "text": [
            "california_house_price\n",
            "ridge regression linear model intercept: 12.591530239540232\n",
            "ridge regression linear model coeff:\n",
            "[-2.71633167 -2.52480648  0.24687668 -2.84281404  4.53857372 -3.85146576\n",
            "  1.71669329  2.79560582]\n",
            "R-squared score (training): 0.681\n",
            "R-squared score (test): 0.388\n",
            "Number of non-zero features: 8\n"
          ],
          "name": "stdout"
        },
        {
          "output_type": "stream",
          "text": [
            "/usr/local/lib/python3.6/dist-packages/sklearn/linear_model/_coordinate_descent.py:476: ConvergenceWarning: Objective did not converge. You might want to increase the number of iterations. Duality gap: 885.7370552295299, tolerance: 0.5555061535506182\n",
            "  positive)\n"
          ],
          "name": "stderr"
        }
      ]
    },
    {
      "cell_type": "code",
      "metadata": {
        "id": "oXQoSTQzLERN",
        "outputId": "59317c36-16cd-4c7f-a74e-c5ac82f6f89c",
        "colab": {
          "base_uri": "https://localhost:8080/",
          "height": 163
        }
      },
      "source": [
        "linridge = Lasso(alpha=0.001).fit(X_train, y_train)\n",
        "\n",
        "print('california_house_price')\n",
        "print('ridge regression linear model intercept: {}'\n",
        "     .format(linridge.intercept_))\n",
        "print('ridge regression linear model coeff:\\n{}'\n",
        "     .format(linridge.coef_))\n",
        "print('R-squared score (training): {:.3f}'\n",
        "     .format(linridge.score(X_train, y_train),cv=5))\n",
        "print('R-squared score (test): {:.3f}'\n",
        "     .format(linridge.score(X_test, y_test),cv=5))\n",
        "print('Number of non-zero features: {}'\n",
        "     .format(np.sum(linridge.coef_ != 0)))"
      ],
      "execution_count": null,
      "outputs": [
        {
          "output_type": "stream",
          "text": [
            "california_house_price\n",
            "ridge regression linear model intercept: 12.464157026754648\n",
            "ridge regression linear model coeff:\n",
            "[-2.62993329 -2.45329835  0.23346598  0.          1.9368942  -1.840756\n",
            "  0.          2.39927022]\n",
            "R-squared score (training): 0.661\n",
            "R-squared score (test): 0.552\n",
            "Number of non-zero features: 6\n"
          ],
          "name": "stdout"
        }
      ]
    },
    {
      "cell_type": "code",
      "metadata": {
        "id": "-kuYFzOqLWik"
      },
      "source": [
        "from sklearn.linear_model import Ridge"
      ],
      "execution_count": null,
      "outputs": []
    },
    {
      "cell_type": "code",
      "metadata": {
        "id": "z9yZysHgLeUt",
        "outputId": "42e6f78d-5e73-457a-a056-547806474799",
        "colab": {
          "base_uri": "https://localhost:8080/",
          "height": 163
        }
      },
      "source": [
        "linridge = Ridge(alpha=110).fit(X_train, y_train)\n",
        "\n",
        "print('california_house_price')\n",
        "print('ridge regression linear model intercept: {}'\n",
        "     .format(linridge.intercept_))\n",
        "print('ridge regression linear model coeff:\\n{}'\n",
        "     .format(linridge.coef_))\n",
        "print('R-squared score (training): {:.3f}'\n",
        "     .format(linridge.score(X_train, y_train),cv=40))\n",
        "print('R-squared score (test): {:.3f}'\n",
        "     .format(linridge.score(X_test, y_test),cv=40))\n",
        "print('Number of non-zero features: {}'\n",
        "     .format(np.sum(linridge.coef_ != 0)))"
      ],
      "execution_count": null,
      "outputs": [
        {
          "output_type": "stream",
          "text": [
            "california_house_price\n",
            "ridge regression linear model intercept: 11.226377514687712\n",
            "ridge regression linear model coeff:\n",
            "[-0.96097141 -1.00795761  0.32120961  0.18170273  0.23772664 -0.28318645\n",
            "  0.23341295  1.98837857]\n",
            "R-squared score (training): 0.550\n",
            "R-squared score (test): 0.524\n",
            "Number of non-zero features: 8\n"
          ],
          "name": "stdout"
        }
      ]
    }
  ]
}
